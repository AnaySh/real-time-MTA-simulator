{
 "cells": [
  {
   "cell_type": "code",
   "execution_count": 3,
   "metadata": {},
   "outputs": [
    {
     "name": "stdout",
     "output_type": "stream",
     "text": [
      "Complex ID for GTFS stop id 'L03': 602\n",
      "Number of stations in complex 602: 3\n",
      "GTFS stop ids for complex 602: ['635', 'L03', 'R20']\n"
     ]
    }
   ],
   "source": [
    "from complexes import ComplexesData\n",
    "\n",
    "# --- Cell 2: Load the Complexes Data ---\n",
    "complexes = ComplexesData()\n",
    "\n",
    "# --- Cell 3: Demo 1 - Get Complex ID by GTFS Stop ID ---\n",
    "gtfs_stop_id = 'L03'\n",
    "complex_id = complexes.get_complex_id_by_gtfs_stop_id(gtfs_stop_id)\n",
    "print(f\"Complex ID for GTFS stop id '{gtfs_stop_id}': {complex_id}\")\n",
    "\n",
    "# --- Cell 4: Demo 2 - Get Number of Stations in a Complex ---\n",
    "num_stations = complexes.get_number_of_stations(complex_id)\n",
    "print(f\"Number of stations in complex {complex_id}: {num_stations}\")\n",
    "\n",
    "# --- Cell 5: Demo 3 - Get All GTFS Stop IDs for a Complex ---\n",
    "gtfs_ids = complexes.get_gtfs_stop_ids_by_complex_id(complex_id)\n",
    "print(f\"GTFS stop ids for complex {complex_id}: {gtfs_ids}\")"
   ]
  },
  {
   "cell_type": "code",
   "execution_count": null,
   "metadata": {},
   "outputs": [],
   "source": []
  }
 ],
 "metadata": {
  "kernelspec": {
   "display_name": "venv",
   "language": "python",
   "name": "python3"
  },
  "language_info": {
   "codemirror_mode": {
    "name": "ipython",
    "version": 3
   },
   "file_extension": ".py",
   "mimetype": "text/x-python",
   "name": "python",
   "nbconvert_exporter": "python",
   "pygments_lexer": "ipython3",
   "version": "3.12.3"
  }
 },
 "nbformat": 4,
 "nbformat_minor": 2
}
